{
 "cells": [
  {
   "cell_type": "code",
   "execution_count": null,
   "metadata": {},
   "outputs": [],
   "source": [
    "def find_biggest_rest_station(geodataframe):\n",
    "    \"\"\"\n",
    "    Returns the biggest rest station.\n",
    "\n",
    "    Parameters:\n",
    "    geodataframe (geopandas geodataframe): contains polygon/multipolygon geometries\n",
    "\n",
    "    Returns:\n",
    "    The id of the biggest rest station.\n",
    "    \"\"\"\n",
    "\n",
    "    def polygon_to_bbox(polygon):\n",
    "        \"\"\"\n",
    "        Transforms a polygon into a square bounding box.\n",
    "\n",
    "        Parameters:\n",
    "        polygon (Polygon): input polygon\n",
    "\n",
    "        Returns:\n",
    "        The resulting square bounding box bounds as a list: [left, bottom, right, top].\n",
    "        \"\"\"\n",
    "\n",
    "\n",
    "        # Calculate the bounding box of the polygon\n",
    "        minx, miny, maxx, maxy = polygon.bounds\n",
    "        bbox = [minx, miny, maxx, maxy]\n",
    "\n",
    "        return bbox\n",
    "\n",
    "    # Initialize variables\n",
    "    max_span_overall = 0\n",
    "    biggest_rest_station = None\n",
    "    biggest_rest_station_bbox = None\n",
    "    biggest_rest_station_name = None\n",
    "\n",
    "    # Loop over all rows in the df, calculate the bbox and find the largest span\n",
    "    for index, row in geodataframe.iterrows():\n",
    "        bbox = polygon_to_bbox(row[\"geometry\"])\n",
    "        minx, miny, maxx, maxy = bbox\n",
    "        x_span = maxx - minx\n",
    "        y_span = maxy - miny\n",
    "\n",
    "        max_span = max(x_span, y_span)\n",
    "\n",
    "        if max_span > max_span_overall:\n",
    "            max_span_overall = max_span\n",
    "            biggest_rest_station = row[\"id_rest\"]\n",
    "            biggest_rest_station_bbox = [minx, miny, maxx, maxy]\n",
    "            biggest_rest_station_name = row[\"name\"]\n",
    "\n",
    "    print(f\"The biggest rest station is {biggest_rest_station_name} (id: {biggest_rest_station}) with a maximum bounding box span of {max_span_overall}\")\n",
    "\n",
    "    return biggest_rest_station"
   ]
  },
  {
   "cell_type": "code",
   "execution_count": null,
   "metadata": {},
   "outputs": [],
   "source": [
    "def calculate_bbox_dimensions(polygon):\n",
    "    \"\"\"\n",
    "    Calculates the dimensions of the bounding box of a polygon in degrees.\n",
    "\n",
    "    Parameters:\n",
    "    polygon (Polygon): input polygon\n",
    "\n",
    "    Returns:\n",
    "    Width and height of the bounding box in degrees.\n",
    "    \"\"\"\n",
    "    # Get the bounds of the polygon\n",
    "    minx, miny, maxx, maxy = polygon.bounds\n",
    "    # Calculate width and height in degrees\n",
    "    width = maxx - minx\n",
    "    height = maxy - miny\n",
    "    return width, height"
   ]
  },
  {
   "cell_type": "code",
   "execution_count": null,
   "metadata": {},
   "outputs": [],
   "source": [
    "rest_station_id = find_biggest_rest_station(rest_stations_ver)"
   ]
  },
  {
   "cell_type": "code",
   "execution_count": null,
   "metadata": {},
   "outputs": [],
   "source": [
    "rest_station_id_height = rest_stations_ver[rest_stations_ver[\"id_rest\"] == \"lon_7.0388979_lat_52.3124962\"][\"geometry\"].values[0]\n",
    "print(rest_station_id_height)"
   ]
  },
  {
   "cell_type": "code",
   "execution_count": null,
   "metadata": {},
   "outputs": [],
   "source": [
    "def find_needed_image_pixel_size(polygon, WMS_resolution = 0.2):\n",
    "    minx, miny, maxx, maxy = polygon.bounds\n",
    "\n",
    "    print(\"The bounding box has the following coordinates\", [minx, miny, maxx, maxy])\n",
    "\n",
    "    x_line = shapely.LineString([(minx, miny), (maxx, miny)])\n",
    "    y_line = shapely.LineString([(minx, miny), (minx, maxy)])\n",
    "\n",
    "    geod = Geod(ellps=\"WGS84\")\n",
    "\n",
    "    length_x = math.ceil(geod.geometry_length(x_line))\n",
    "    length_y = math.ceil(geod.geometry_length(y_line))\n",
    "\n",
    "    print(f\"The bounding box has a width of: {length_x}m and a height of: {length_y}m\")\n",
    "\n",
    "    max_length = max(length_x, length_y)\n",
    "\n",
    "    needed_resolution = math.ceil(max_length / WMS_resolution)\n",
    "\n",
    "    print(\"The needed minimum pixel size is:\", needed_resolution, \"pixels.\")"
   ]
  },
  {
   "cell_type": "code",
   "execution_count": null,
   "metadata": {},
   "outputs": [],
   "source": [
    "find_needed_image_pixel_size(rest_station_id_height)"
   ]
  }
 ],
 "metadata": {
  "kernelspec": {
   "display_name": "Python 3",
   "language": "python",
   "name": "python3"
  },
  "language_info": {
   "name": "python",
   "version": "3.11.6"
  }
 },
 "nbformat": 4,
 "nbformat_minor": 2
}
