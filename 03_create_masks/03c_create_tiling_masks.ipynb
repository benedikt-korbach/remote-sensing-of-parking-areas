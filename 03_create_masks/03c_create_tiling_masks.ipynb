{
 "cells": [
  {
   "cell_type": "code",
   "execution_count": 1,
   "metadata": {},
   "outputs": [],
   "source": [
    "import geopandas as gpd\n",
    "import os\n",
    "import pandas as pd\n",
    "import rasterio\n",
    "import rasterio.features\n",
    "from rasterio.features import geometry_mask\n",
    "from rasterio.plot import show\n",
    "import ast\n",
    "import matplotlib.pyplot as plt\n",
    "import numpy as np\n",
    "\n",
    "from shapely import box"
   ]
  },
  {
   "cell_type": "code",
   "execution_count": 2,
   "metadata": {},
   "outputs": [
    {
     "name": "stdout",
     "output_type": "stream",
     "text": [
      "Working directory: /Users/benediktkorbach/Documents/GitHub/remote-sensing-of-parking-areas\n"
     ]
    }
   ],
   "source": [
    "# Set wd\n",
    "os.chdir('/Users/benediktkorbach/Documents/GitHub/remote-sensing-of-parking-areas')\n",
    "\n",
    "print(\"Working directory:\", os.getcwd())"
   ]
  },
  {
   "cell_type": "code",
   "execution_count": 3,
   "metadata": {},
   "outputs": [],
   "source": [
    "# Load the GeoJSON files of verified rest stops\n",
    "parking_areas = gpd.read_file(\"02_data_acquisition/verified_parking_data/parking_areas_ver_final.geojson\") # polygons of verified car and truck parking space\n",
    "rest_stations = gpd.read_file(\"02_data_acquisition/verified_parking_data/rest_stations_ver_final.geojson\") # polygons of verified rest stops\n",
    "rest_stations_bboxes = pd.read_csv(\"02_data_acquisition/verified_parking_data/rest_stations_ver_bbox_final.csv\") # bounding boxes of verified rest stops\n"
   ]
  }
 ],
 "metadata": {
  "kernelspec": {
   "display_name": ".venv",
   "language": "python",
   "name": "python3"
  },
  "language_info": {
   "codemirror_mode": {
    "name": "ipython",
    "version": 3
   },
   "file_extension": ".py",
   "mimetype": "text/x-python",
   "name": "python",
   "nbconvert_exporter": "python",
   "pygments_lexer": "ipython3",
   "version": "3.11.6"
  }
 },
 "nbformat": 4,
 "nbformat_minor": 2
}
