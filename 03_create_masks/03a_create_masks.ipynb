{
 "cells": [
  {
   "cell_type": "code",
   "execution_count": 33,
   "metadata": {},
   "outputs": [],
   "source": [
    "import geopandas as gpd\n",
    "import os"
   ]
  },
  {
   "cell_type": "code",
   "execution_count": 34,
   "metadata": {},
   "outputs": [
    {
     "name": "stdout",
     "output_type": "stream",
     "text": [
      "Working directory: /Users/benediktkorbach/Documents/GitHub/remote-sensing-of-parking-areas\n"
     ]
    }
   ],
   "source": [
    "# Set wd\n",
    "os.chdir('/Users/benediktkorbach/Documents/GitHub/remote-sensing-of-parking-areas')\n",
    "\n",
    "print(\"Working directory:\", os.getcwd())"
   ]
  },
  {
   "cell_type": "code",
   "execution_count": 35,
   "metadata": {},
   "outputs": [],
   "source": [
    "# Load the GeoJSON files of verified rest stops\n",
    "parking_areas_ver = gpd.read_file(\"02_data_acquisition/verified_parking_data/parking_areas_ver.geojson\") # polygons of verified car and truck parking space\n",
    "rest_stations_ver_bbox = gpd.read_file(\"02_data_acquisition/verified_parking_data/rest_stations_ver_bbox.geojson\") # polygons of verified rest stops"
   ]
  },
  {
   "cell_type": "code",
   "execution_count": 36,
   "metadata": {},
   "outputs": [
    {
     "data": {
      "text/html": [
       "<div>\n",
       "<style scoped>\n",
       "    .dataframe tbody tr th:only-of-type {\n",
       "        vertical-align: middle;\n",
       "    }\n",
       "\n",
       "    .dataframe tbody tr th {\n",
       "        vertical-align: top;\n",
       "    }\n",
       "\n",
       "    .dataframe thead th {\n",
       "        text-align: right;\n",
       "    }\n",
       "</style>\n",
       "<table border=\"1\" class=\"dataframe\">\n",
       "  <thead>\n",
       "    <tr style=\"text-align: right;\">\n",
       "      <th></th>\n",
       "      <th>id_rest</th>\n",
       "      <th>id_OSM_rest</th>\n",
       "      <th>name</th>\n",
       "      <th>geometry</th>\n",
       "    </tr>\n",
       "  </thead>\n",
       "  <tbody>\n",
       "    <tr>\n",
       "      <th>0</th>\n",
       "      <td>lon_8.6630029_lat_50.2542348</td>\n",
       "      <td>way/22568867</td>\n",
       "      <td>Schäferborn</td>\n",
       "      <td>POLYGON ((8.66300 50.25423, 8.66302 50.25237, ...</td>\n",
       "    </tr>\n",
       "    <tr>\n",
       "      <th>1</th>\n",
       "      <td>lon_11.3531491_lat_50.9378362</td>\n",
       "      <td>way/27549694</td>\n",
       "      <td>Habichtsfang</td>\n",
       "      <td>POLYGON ((11.35315 50.93784, 11.35315 50.93783...</td>\n",
       "    </tr>\n",
       "    <tr>\n",
       "      <th>2</th>\n",
       "      <td>lon_9.6300119_lat_53.8303266</td>\n",
       "      <td>way/31128689</td>\n",
       "      <td>Steinburg</td>\n",
       "      <td>POLYGON ((9.63001 53.83033, 9.63273 53.82905, ...</td>\n",
       "    </tr>\n",
       "    <tr>\n",
       "      <th>3</th>\n",
       "      <td>lon_9.6297338_lat_53.8301666</td>\n",
       "      <td>way/31128716</td>\n",
       "      <td>Steinburg</td>\n",
       "      <td>POLYGON ((9.62973 53.83017, 9.62965 53.83010, ...</td>\n",
       "    </tr>\n",
       "    <tr>\n",
       "      <th>4</th>\n",
       "      <td>lon_11.0102562_lat_50.8353109</td>\n",
       "      <td>way/32489728</td>\n",
       "      <td>Dornheimer Rieth</td>\n",
       "      <td>POLYGON ((11.01026 50.83531, 11.01145 50.83591...</td>\n",
       "    </tr>\n",
       "    <tr>\n",
       "      <th>...</th>\n",
       "      <td>...</td>\n",
       "      <td>...</td>\n",
       "      <td>...</td>\n",
       "      <td>...</td>\n",
       "    </tr>\n",
       "    <tr>\n",
       "      <th>262</th>\n",
       "      <td>lon_7.2526746_lat_52.9419091</td>\n",
       "      <td>way/839676611</td>\n",
       "      <td>Walchum West</td>\n",
       "      <td>POLYGON ((7.25267 52.94191, 7.25199 52.94181, ...</td>\n",
       "    </tr>\n",
       "    <tr>\n",
       "      <th>263</th>\n",
       "      <td>lon_7.2005154_lat_52.2816225</td>\n",
       "      <td>way/988014767</td>\n",
       "      <td>Gut Friedrichstal</td>\n",
       "      <td>POLYGON ((7.20052 52.28162, 7.20053 52.28167, ...</td>\n",
       "    </tr>\n",
       "    <tr>\n",
       "      <th>264</th>\n",
       "      <td>lon_8.5597202_lat_49.5969765</td>\n",
       "      <td>way/992004892</td>\n",
       "      <td>Wildbahn</td>\n",
       "      <td>POLYGON ((8.55972 49.59698, 8.55958 49.59693, ...</td>\n",
       "    </tr>\n",
       "    <tr>\n",
       "      <th>265</th>\n",
       "      <td>lon_10.7306355_lat_50.559048</td>\n",
       "      <td>way/1171916133</td>\n",
       "      <td>Adlersberg</td>\n",
       "      <td>POLYGON ((10.73064 50.55905, 10.73067 50.55851...</td>\n",
       "    </tr>\n",
       "    <tr>\n",
       "      <th>266</th>\n",
       "      <td>lon_9.7695159_lat_52.5102873</td>\n",
       "      <td>way/1192709800</td>\n",
       "      <td>Rastplatz Bissendorf Süd</td>\n",
       "      <td>POLYGON ((9.76952 52.51029, 9.77003 52.51132, ...</td>\n",
       "    </tr>\n",
       "  </tbody>\n",
       "</table>\n",
       "<p>267 rows × 4 columns</p>\n",
       "</div>"
      ],
      "text/plain": [
       "                           id_rest     id_OSM_rest                      name  \\\n",
       "0     lon_8.6630029_lat_50.2542348    way/22568867               Schäferborn   \n",
       "1    lon_11.3531491_lat_50.9378362    way/27549694              Habichtsfang   \n",
       "2     lon_9.6300119_lat_53.8303266    way/31128689                 Steinburg   \n",
       "3     lon_9.6297338_lat_53.8301666    way/31128716                 Steinburg   \n",
       "4    lon_11.0102562_lat_50.8353109    way/32489728          Dornheimer Rieth   \n",
       "..                             ...             ...                       ...   \n",
       "262   lon_7.2526746_lat_52.9419091   way/839676611              Walchum West   \n",
       "263   lon_7.2005154_lat_52.2816225   way/988014767         Gut Friedrichstal   \n",
       "264   lon_8.5597202_lat_49.5969765   way/992004892                  Wildbahn   \n",
       "265   lon_10.7306355_lat_50.559048  way/1171916133                Adlersberg   \n",
       "266   lon_9.7695159_lat_52.5102873  way/1192709800  Rastplatz Bissendorf Süd   \n",
       "\n",
       "                                              geometry  \n",
       "0    POLYGON ((8.66300 50.25423, 8.66302 50.25237, ...  \n",
       "1    POLYGON ((11.35315 50.93784, 11.35315 50.93783...  \n",
       "2    POLYGON ((9.63001 53.83033, 9.63273 53.82905, ...  \n",
       "3    POLYGON ((9.62973 53.83017, 9.62965 53.83010, ...  \n",
       "4    POLYGON ((11.01026 50.83531, 11.01145 50.83591...  \n",
       "..                                                 ...  \n",
       "262  POLYGON ((7.25267 52.94191, 7.25199 52.94181, ...  \n",
       "263  POLYGON ((7.20052 52.28162, 7.20053 52.28167, ...  \n",
       "264  POLYGON ((8.55972 49.59698, 8.55958 49.59693, ...  \n",
       "265  POLYGON ((10.73064 50.55905, 10.73067 50.55851...  \n",
       "266  POLYGON ((9.76952 52.51029, 9.77003 52.51132, ...  \n",
       "\n",
       "[267 rows x 4 columns]"
      ]
     },
     "execution_count": 36,
     "metadata": {},
     "output_type": "execute_result"
    }
   ],
   "source": [
    "rest_stations_ver_bbox"
   ]
  },
  {
   "cell_type": "code",
   "execution_count": 28,
   "metadata": {},
   "outputs": [
    {
     "ename": "KeyError",
     "evalue": "'bbox'",
     "output_type": "error",
     "traceback": [
      "\u001b[0;31m---------------------------------------------------------------------------\u001b[0m",
      "\u001b[0;31mKeyError\u001b[0m                                  Traceback (most recent call last)",
      "File \u001b[0;32m~/Documents/GitHub/remote-sensing-of-parking-areas/.venv/lib/python3.11/site-packages/pandas/core/indexes/base.py:3802\u001b[0m, in \u001b[0;36mIndex.get_loc\u001b[0;34m(self, key)\u001b[0m\n\u001b[1;32m   3801\u001b[0m \u001b[38;5;28;01mtry\u001b[39;00m:\n\u001b[0;32m-> 3802\u001b[0m     \u001b[38;5;28;01mreturn\u001b[39;00m \u001b[38;5;28;43mself\u001b[39;49m\u001b[38;5;241;43m.\u001b[39;49m\u001b[43m_engine\u001b[49m\u001b[38;5;241;43m.\u001b[39;49m\u001b[43mget_loc\u001b[49m\u001b[43m(\u001b[49m\u001b[43mcasted_key\u001b[49m\u001b[43m)\u001b[49m\n\u001b[1;32m   3803\u001b[0m \u001b[38;5;28;01mexcept\u001b[39;00m \u001b[38;5;167;01mKeyError\u001b[39;00m \u001b[38;5;28;01mas\u001b[39;00m err:\n",
      "File \u001b[0;32mindex.pyx:153\u001b[0m, in \u001b[0;36mpandas._libs.index.IndexEngine.get_loc\u001b[0;34m()\u001b[0m\n",
      "File \u001b[0;32mindex.pyx:182\u001b[0m, in \u001b[0;36mpandas._libs.index.IndexEngine.get_loc\u001b[0;34m()\u001b[0m\n",
      "File \u001b[0;32mpandas/_libs/hashtable_class_helper.pxi:7081\u001b[0m, in \u001b[0;36mpandas._libs.hashtable.PyObjectHashTable.get_item\u001b[0;34m()\u001b[0m\n",
      "File \u001b[0;32mpandas/_libs/hashtable_class_helper.pxi:7089\u001b[0m, in \u001b[0;36mpandas._libs.hashtable.PyObjectHashTable.get_item\u001b[0;34m()\u001b[0m\n",
      "\u001b[0;31mKeyError\u001b[0m: 'bbox'",
      "\nThe above exception was the direct cause of the following exception:\n",
      "\u001b[0;31mKeyError\u001b[0m                                  Traceback (most recent call last)",
      "Cell \u001b[0;32mIn[28], line 2\u001b[0m\n\u001b[1;32m      1\u001b[0m \u001b[38;5;66;03m# Change bbox column to list\u001b[39;00m\n\u001b[0;32m----> 2\u001b[0m rest_stations_ver_bbox[\u001b[38;5;124m'\u001b[39m\u001b[38;5;124mbbox\u001b[39m\u001b[38;5;124m'\u001b[39m] \u001b[38;5;241m=\u001b[39m \u001b[43mrest_stations_ver_bbox\u001b[49m\u001b[43m[\u001b[49m\u001b[38;5;124;43m'\u001b[39;49m\u001b[38;5;124;43mbbox\u001b[39;49m\u001b[38;5;124;43m'\u001b[39;49m\u001b[43m]\u001b[49m\u001b[38;5;241m.\u001b[39mapply(\u001b[38;5;28;01mlambda\u001b[39;00m x: x\u001b[38;5;241m.\u001b[39msplit(\u001b[38;5;124m'\u001b[39m\u001b[38;5;124m,\u001b[39m\u001b[38;5;124m'\u001b[39m))\n",
      "File \u001b[0;32m~/Documents/GitHub/remote-sensing-of-parking-areas/.venv/lib/python3.11/site-packages/geopandas/geodataframe.py:1456\u001b[0m, in \u001b[0;36mGeoDataFrame.__getitem__\u001b[0;34m(self, key)\u001b[0m\n\u001b[1;32m   1450\u001b[0m \u001b[38;5;28;01mdef\u001b[39;00m \u001b[38;5;21m__getitem__\u001b[39m(\u001b[38;5;28mself\u001b[39m, key):\n\u001b[1;32m   1451\u001b[0m \u001b[38;5;250m    \u001b[39m\u001b[38;5;124;03m\"\"\"\u001b[39;00m\n\u001b[1;32m   1452\u001b[0m \u001b[38;5;124;03m    If the result is a column containing only 'geometry', return a\u001b[39;00m\n\u001b[1;32m   1453\u001b[0m \u001b[38;5;124;03m    GeoSeries. If it's a DataFrame with any columns of GeometryDtype,\u001b[39;00m\n\u001b[1;32m   1454\u001b[0m \u001b[38;5;124;03m    return a GeoDataFrame.\u001b[39;00m\n\u001b[1;32m   1455\u001b[0m \u001b[38;5;124;03m    \"\"\"\u001b[39;00m\n\u001b[0;32m-> 1456\u001b[0m     result \u001b[38;5;241m=\u001b[39m \u001b[38;5;28;43msuper\u001b[39;49m\u001b[43m(\u001b[49m\u001b[43m)\u001b[49m\u001b[38;5;241;43m.\u001b[39;49m\u001b[38;5;21;43m__getitem__\u001b[39;49m\u001b[43m(\u001b[49m\u001b[43mkey\u001b[49m\u001b[43m)\u001b[49m\n\u001b[1;32m   1457\u001b[0m     \u001b[38;5;66;03m# Custom logic to avoid waiting for pandas GH51895\u001b[39;00m\n\u001b[1;32m   1458\u001b[0m     \u001b[38;5;66;03m# result is not geometry dtype for multi-indexes\u001b[39;00m\n\u001b[1;32m   1459\u001b[0m     \u001b[38;5;28;01mif\u001b[39;00m (\n\u001b[1;32m   1460\u001b[0m         pd\u001b[38;5;241m.\u001b[39mapi\u001b[38;5;241m.\u001b[39mtypes\u001b[38;5;241m.\u001b[39mis_scalar(key)\n\u001b[1;32m   1461\u001b[0m         \u001b[38;5;129;01mand\u001b[39;00m key \u001b[38;5;241m==\u001b[39m \u001b[38;5;124m\"\u001b[39m\u001b[38;5;124m\"\u001b[39m\n\u001b[0;32m   (...)\u001b[0m\n\u001b[1;32m   1464\u001b[0m         \u001b[38;5;129;01mand\u001b[39;00m \u001b[38;5;129;01mnot\u001b[39;00m is_geometry_type(result)\n\u001b[1;32m   1465\u001b[0m     ):\n",
      "File \u001b[0;32m~/Documents/GitHub/remote-sensing-of-parking-areas/.venv/lib/python3.11/site-packages/pandas/core/frame.py:4090\u001b[0m, in \u001b[0;36mDataFrame.__getitem__\u001b[0;34m(self, key)\u001b[0m\n\u001b[1;32m   4088\u001b[0m \u001b[38;5;28;01mif\u001b[39;00m \u001b[38;5;28mself\u001b[39m\u001b[38;5;241m.\u001b[39mcolumns\u001b[38;5;241m.\u001b[39mnlevels \u001b[38;5;241m>\u001b[39m \u001b[38;5;241m1\u001b[39m:\n\u001b[1;32m   4089\u001b[0m     \u001b[38;5;28;01mreturn\u001b[39;00m \u001b[38;5;28mself\u001b[39m\u001b[38;5;241m.\u001b[39m_getitem_multilevel(key)\n\u001b[0;32m-> 4090\u001b[0m indexer \u001b[38;5;241m=\u001b[39m \u001b[38;5;28;43mself\u001b[39;49m\u001b[38;5;241;43m.\u001b[39;49m\u001b[43mcolumns\u001b[49m\u001b[38;5;241;43m.\u001b[39;49m\u001b[43mget_loc\u001b[49m\u001b[43m(\u001b[49m\u001b[43mkey\u001b[49m\u001b[43m)\u001b[49m\n\u001b[1;32m   4091\u001b[0m \u001b[38;5;28;01mif\u001b[39;00m is_integer(indexer):\n\u001b[1;32m   4092\u001b[0m     indexer \u001b[38;5;241m=\u001b[39m [indexer]\n",
      "File \u001b[0;32m~/Documents/GitHub/remote-sensing-of-parking-areas/.venv/lib/python3.11/site-packages/pandas/core/indexes/base.py:3809\u001b[0m, in \u001b[0;36mIndex.get_loc\u001b[0;34m(self, key)\u001b[0m\n\u001b[1;32m   3804\u001b[0m     \u001b[38;5;28;01mif\u001b[39;00m \u001b[38;5;28misinstance\u001b[39m(casted_key, \u001b[38;5;28mslice\u001b[39m) \u001b[38;5;129;01mor\u001b[39;00m (\n\u001b[1;32m   3805\u001b[0m         \u001b[38;5;28misinstance\u001b[39m(casted_key, abc\u001b[38;5;241m.\u001b[39mIterable)\n\u001b[1;32m   3806\u001b[0m         \u001b[38;5;129;01mand\u001b[39;00m \u001b[38;5;28many\u001b[39m(\u001b[38;5;28misinstance\u001b[39m(x, \u001b[38;5;28mslice\u001b[39m) \u001b[38;5;28;01mfor\u001b[39;00m x \u001b[38;5;129;01min\u001b[39;00m casted_key)\n\u001b[1;32m   3807\u001b[0m     ):\n\u001b[1;32m   3808\u001b[0m         \u001b[38;5;28;01mraise\u001b[39;00m InvalidIndexError(key)\n\u001b[0;32m-> 3809\u001b[0m     \u001b[38;5;28;01mraise\u001b[39;00m \u001b[38;5;167;01mKeyError\u001b[39;00m(key) \u001b[38;5;28;01mfrom\u001b[39;00m \u001b[38;5;21;01merr\u001b[39;00m\n\u001b[1;32m   3810\u001b[0m \u001b[38;5;28;01mexcept\u001b[39;00m \u001b[38;5;167;01mTypeError\u001b[39;00m:\n\u001b[1;32m   3811\u001b[0m     \u001b[38;5;66;03m# If we have a listlike key, _check_indexing_error will raise\u001b[39;00m\n\u001b[1;32m   3812\u001b[0m     \u001b[38;5;66;03m#  InvalidIndexError. Otherwise we fall through and re-raise\u001b[39;00m\n\u001b[1;32m   3813\u001b[0m     \u001b[38;5;66;03m#  the TypeError.\u001b[39;00m\n\u001b[1;32m   3814\u001b[0m     \u001b[38;5;28mself\u001b[39m\u001b[38;5;241m.\u001b[39m_check_indexing_error(key)\n",
      "\u001b[0;31mKeyError\u001b[0m: 'bbox'"
     ]
    }
   ],
   "source": [
    "# Change bbox column to list\n",
    "rest_stations_ver_bbox['bbox'] = rest_stations_ver_bbox['bbox'].apply(lambda x: x.split(','))"
   ]
  },
  {
   "cell_type": "code",
   "execution_count": 11,
   "metadata": {},
   "outputs": [
    {
     "ename": "IndexError",
     "evalue": "single positional indexer is out-of-bounds",
     "output_type": "error",
     "traceback": [
      "\u001b[0;31m---------------------------------------------------------------------------\u001b[0m",
      "\u001b[0;31mIndexError\u001b[0m                                Traceback (most recent call last)",
      "Cell \u001b[0;32mIn[11], line 4\u001b[0m\n\u001b[1;32m      1\u001b[0m \u001b[38;5;66;03m# Define test index\u001b[39;00m\n\u001b[1;32m      2\u001b[0m test_index \u001b[38;5;241m=\u001b[39m \u001b[38;5;241m5\u001b[39m\n\u001b[0;32m----> 4\u001b[0m test_bbox \u001b[38;5;241m=\u001b[39m \u001b[43mrest_stations_ver_bbox\u001b[49m\u001b[38;5;241;43m.\u001b[39;49m\u001b[43miloc\u001b[49m\u001b[43m[\u001b[49m\u001b[43mtest_index\u001b[49m\u001b[43m]\u001b[49m\u001b[38;5;241m.\u001b[39mloc[\u001b[38;5;124m\"\u001b[39m\u001b[38;5;124mbbox\u001b[39m\u001b[38;5;124m\"\u001b[39m]\n\u001b[1;32m      5\u001b[0m test_id_rest \u001b[38;5;241m=\u001b[39m rest_stations_ver_bbox\u001b[38;5;241m.\u001b[39miloc[test_index]\u001b[38;5;241m.\u001b[39mloc[\u001b[38;5;124m\"\u001b[39m\u001b[38;5;124mid_rest\u001b[39m\u001b[38;5;124m\"\u001b[39m]\n\u001b[1;32m      6\u001b[0m test_name \u001b[38;5;241m=\u001b[39m rest_stations_ver_bbox\u001b[38;5;241m.\u001b[39miloc[test_index]\u001b[38;5;241m.\u001b[39mloc[\u001b[38;5;124m\"\u001b[39m\u001b[38;5;124mname\u001b[39m\u001b[38;5;124m\"\u001b[39m]\n",
      "File \u001b[0;32m~/Documents/GitHub/remote-sensing-of-parking-areas/.venv/lib/python3.11/site-packages/pandas/core/indexing.py:1192\u001b[0m, in \u001b[0;36m_LocationIndexer.__getitem__\u001b[0;34m(self, key)\u001b[0m\n\u001b[1;32m   1190\u001b[0m maybe_callable \u001b[38;5;241m=\u001b[39m com\u001b[38;5;241m.\u001b[39mapply_if_callable(key, \u001b[38;5;28mself\u001b[39m\u001b[38;5;241m.\u001b[39mobj)\n\u001b[1;32m   1191\u001b[0m maybe_callable \u001b[38;5;241m=\u001b[39m \u001b[38;5;28mself\u001b[39m\u001b[38;5;241m.\u001b[39m_check_deprecated_callable_usage(key, maybe_callable)\n\u001b[0;32m-> 1192\u001b[0m \u001b[38;5;28;01mreturn\u001b[39;00m \u001b[38;5;28;43mself\u001b[39;49m\u001b[38;5;241;43m.\u001b[39;49m\u001b[43m_getitem_axis\u001b[49m\u001b[43m(\u001b[49m\u001b[43mmaybe_callable\u001b[49m\u001b[43m,\u001b[49m\u001b[43m \u001b[49m\u001b[43maxis\u001b[49m\u001b[38;5;241;43m=\u001b[39;49m\u001b[43maxis\u001b[49m\u001b[43m)\u001b[49m\n",
      "File \u001b[0;32m~/Documents/GitHub/remote-sensing-of-parking-areas/.venv/lib/python3.11/site-packages/pandas/core/indexing.py:1753\u001b[0m, in \u001b[0;36m_iLocIndexer._getitem_axis\u001b[0;34m(self, key, axis)\u001b[0m\n\u001b[1;32m   1750\u001b[0m     \u001b[38;5;28;01mraise\u001b[39;00m \u001b[38;5;167;01mTypeError\u001b[39;00m(\u001b[38;5;124m\"\u001b[39m\u001b[38;5;124mCannot index by location index with a non-integer key\u001b[39m\u001b[38;5;124m\"\u001b[39m)\n\u001b[1;32m   1752\u001b[0m \u001b[38;5;66;03m# validate the location\u001b[39;00m\n\u001b[0;32m-> 1753\u001b[0m \u001b[38;5;28;43mself\u001b[39;49m\u001b[38;5;241;43m.\u001b[39;49m\u001b[43m_validate_integer\u001b[49m\u001b[43m(\u001b[49m\u001b[43mkey\u001b[49m\u001b[43m,\u001b[49m\u001b[43m \u001b[49m\u001b[43maxis\u001b[49m\u001b[43m)\u001b[49m\n\u001b[1;32m   1755\u001b[0m \u001b[38;5;28;01mreturn\u001b[39;00m \u001b[38;5;28mself\u001b[39m\u001b[38;5;241m.\u001b[39mobj\u001b[38;5;241m.\u001b[39m_ixs(key, axis\u001b[38;5;241m=\u001b[39maxis)\n",
      "File \u001b[0;32m~/Documents/GitHub/remote-sensing-of-parking-areas/.venv/lib/python3.11/site-packages/pandas/core/indexing.py:1686\u001b[0m, in \u001b[0;36m_iLocIndexer._validate_integer\u001b[0;34m(self, key, axis)\u001b[0m\n\u001b[1;32m   1684\u001b[0m len_axis \u001b[38;5;241m=\u001b[39m \u001b[38;5;28mlen\u001b[39m(\u001b[38;5;28mself\u001b[39m\u001b[38;5;241m.\u001b[39mobj\u001b[38;5;241m.\u001b[39m_get_axis(axis))\n\u001b[1;32m   1685\u001b[0m \u001b[38;5;28;01mif\u001b[39;00m key \u001b[38;5;241m>\u001b[39m\u001b[38;5;241m=\u001b[39m len_axis \u001b[38;5;129;01mor\u001b[39;00m key \u001b[38;5;241m<\u001b[39m \u001b[38;5;241m-\u001b[39mlen_axis:\n\u001b[0;32m-> 1686\u001b[0m     \u001b[38;5;28;01mraise\u001b[39;00m \u001b[38;5;167;01mIndexError\u001b[39;00m(\u001b[38;5;124m\"\u001b[39m\u001b[38;5;124msingle positional indexer is out-of-bounds\u001b[39m\u001b[38;5;124m\"\u001b[39m)\n",
      "\u001b[0;31mIndexError\u001b[0m: single positional indexer is out-of-bounds"
     ]
    }
   ],
   "source": [
    "# Define test index\n",
    "test_index = 5\n",
    "\n",
    "test_bbox = rest_stations_ver_bbox.iloc[test_index].loc[\"bbox\"]\n",
    "test_id_rest = rest_stations_ver_bbox.iloc[test_index].loc[\"id_rest\"]\n",
    "test_name = rest_stations_ver_bbox.iloc[test_index].loc[\"name\"]\n",
    "\n",
    "print(\"Test bounding box:\", test_bbox)\n",
    "print(\"Test id box:\", test_id_rest)\n",
    "print(\"Test service station:\", test_name)"
   ]
  },
  {
   "cell_type": "code",
   "execution_count": null,
   "metadata": {},
   "outputs": [],
   "source": [
    "parking_areas = parking_areas_ver[parking_areas_ver[\"id_rest\"] == test_id_rest]"
   ]
  },
  {
   "cell_type": "code",
   "execution_count": 1,
   "metadata": {},
   "outputs": [
    {
     "ename": "NameError",
     "evalue": "name 'parking_areas' is not defined",
     "output_type": "error",
     "traceback": [
      "\u001b[0;31m---------------------------------------------------------------------------\u001b[0m",
      "\u001b[0;31mNameError\u001b[0m                                 Traceback (most recent call last)",
      "Cell \u001b[0;32mIn[1], line 1\u001b[0m\n\u001b[0;32m----> 1\u001b[0m \u001b[43mparking_areas\u001b[49m\n",
      "\u001b[0;31mNameError\u001b[0m: name 'parking_areas' is not defined"
     ]
    }
   ],
   "source": [
    "parking_areas"
   ]
  },
  {
   "cell_type": "code",
   "execution_count": null,
   "metadata": {},
   "outputs": [],
   "source": [
    "car_parking = parking_areas[parking_areas[\"type\"] == \"car\"]\n",
    "truck_parking = parking_areas[parking_areas[\"type\"] == \"truck\"]"
   ]
  },
  {
   "cell_type": "code",
   "execution_count": null,
   "metadata": {},
   "outputs": [],
   "source": [
    "test_polygon = parking_areas_ver[parking_areas_ver[\"id_rest\"] == test_id_rest].iloc[0]"
   ]
  },
  {
   "cell_type": "code",
   "execution_count": null,
   "metadata": {},
   "outputs": [],
   "source": [
    "print(test_polygon)"
   ]
  },
  {
   "cell_type": "code",
   "execution_count": null,
   "metadata": {},
   "outputs": [],
   "source": [
    "def create_mask(geodataframe, bbox, size = 3000):\n",
    "\n",
    "    # Calculate pixel size\n",
    "    xres = (bbox[2] - bbox[0]) / size\n",
    "    yres = (bbox[3] - bbox[1]) / size\n",
    "\n",
    "    # Create an affine transform for the raster\n",
    "    transform = rasterio.transform.from_bounds(*bbox, size, size)\n",
    "\n",
    "    # Create the mask\n",
    "    geometries = geodataframe.geometry\n",
    "    mask = geometry_mask(geometries, transform=transform, invert=True, out_shape=(size, size))\n",
    "\n",
    "    return mask"
   ]
  },
  {
   "cell_type": "code",
   "execution_count": null,
   "metadata": {},
   "outputs": [],
   "source": [
    "big_mask = create_mask(parking_areas, test_bbox)"
   ]
  },
  {
   "cell_type": "code",
   "execution_count": null,
   "metadata": {},
   "outputs": [],
   "source": [
    "# Create big mask\n",
    "\n",
    "car_mask = create_mask(car_parking, test_bbox)\n",
    "truck_mask = create_mask(truck_parking, test_bbox)"
   ]
  },
  {
   "cell_type": "code",
   "execution_count": null,
   "metadata": {},
   "outputs": [],
   "source": [
    "print(car_mask)"
   ]
  },
  {
   "cell_type": "code",
   "execution_count": null,
   "metadata": {},
   "outputs": [],
   "source": [
    "plt.imshow(car_mask, cmap='gray')\n",
    "plt.title('Mask of Polygon Geometries')\n",
    "plt.show()"
   ]
  },
  {
   "cell_type": "code",
   "execution_count": null,
   "metadata": {},
   "outputs": [],
   "source": [
    "plt.imshow(truck_mask, cmap='gray')\n",
    "plt.title('Mask of Polygon Geometries')\n",
    "plt.show()"
   ]
  },
  {
   "cell_type": "code",
   "execution_count": null,
   "metadata": {},
   "outputs": [],
   "source": [
    "def split_image_to_tiles(image_path, mask, tile_width, tile_height, output_folder):\n",
    "    # Open the image\n",
    "    with Image.open(image_path) as img:\n",
    "        image_width, image_height = img.size\n",
    "\n",
    "        # Convert mask to PIL Image if it's not already\n",
    "        if isinstance(mask, np.ndarray):\n",
    "            mask = Image.fromarray(mask.astype(np.uint8) * 255)\n",
    "\n",
    "        # Calculate the number of tiles in each dimension\n",
    "        x_tiles = image_width // tile_width\n",
    "        y_tiles = image_height // tile_height\n",
    "\n",
    "        # Create output folder if it does not exist\n",
    "        if not os.path.exists(output_folder):\n",
    "            os.makedirs(output_folder)\n",
    "\n",
    "        # Generate tiles\n",
    "        for x in range(x_tiles):\n",
    "            for y in range(y_tiles):\n",
    "                # Define the bounding box\n",
    "                left = x * tile_width\n",
    "                upper = y * tile_height\n",
    "                right = (x + 1) * tile_width\n",
    "                lower = (y + 1) * tile_height\n",
    "                box = (left, upper, right, lower)\n",
    "\n",
    "                # Crop the image to the bounding box\n",
    "                tile = img.crop(box)\n",
    "\n",
    "                # Crop the mask to the bounding box\n",
    "                mask_tile = mask.crop(box)\n",
    "\n",
    "                # Check if the tile contains any \"true\" values in the mask\n",
    "                if np.any(mask_tile):\n",
    "                    # Save the tile\n",
    "                    tile.save(os.path.join(output_folder, f\"tile_{x}_{y}.png\"))"
   ]
  },
  {
   "cell_type": "code",
   "execution_count": null,
   "metadata": {},
   "outputs": [],
   "source": [
    "output_folder = f\"/content/drive/MyDrive/Master Thesis/01 Data Acquisition/Test Download PNG/{test_id_rest}_{test_name}\"\n",
    "\n",
    "split_image_to_tiles(image_path=file_path_tif, mask=truck_mask, tile_width=500, tile_height=500, output_folder=output_folder)"
   ]
  },
  {
   "cell_type": "code",
   "execution_count": null,
   "metadata": {},
   "outputs": [],
   "source": [
    "split_image_to_tiles(image_path='image.jpg', mask=Image.open(mask_path), tile_width=100, tile_height=100, output_folder='tiles')"
   ]
  },
  {
   "cell_type": "markdown",
   "metadata": {},
   "source": [
    "# Graveyard"
   ]
  },
  {
   "cell_type": "code",
   "execution_count": null,
   "metadata": {},
   "outputs": [],
   "source": [
    "# Assuming gdf is your GeoDataFrame\n",
    "gdf = parking_areas\n",
    "\n",
    "# Define your bounding box [left, bottom, right, top]\n",
    "bbox = test_bbox\n",
    "\n",
    "# Calculate pixel size\n",
    "width = height = 3000\n",
    "xres = (bbox[2] - bbox[0]) / width\n",
    "yres = (bbox[3] - bbox[1]) / height\n",
    "\n",
    "# Create an affine transform for the raster\n",
    "transform = rasterio.transform.from_bounds(*bbox, width, height)\n",
    "\n",
    "# Create the mask\n",
    "geometries = gdf.geometry\n",
    "mask = geometry_mask(geometries, transform=transform, invert=True, out_shape=(height, width))# Load the satellite image\n",
    "with rasterio.open(file_path_tif) as src:\n",
    "    data = src.read()\n",
    "    if data.shape[0] == 3:\n",
    "        satellite_image = np.moveaxis(data, 0, -1)\n",
    "    else:\n",
    "        raise ValueError(\"The image does not have 3 bands. Check your image data.\")\n",
    "\n",
    "    # Plot the figure with the desired DPI\n",
    "    dpi = 600  # 3000 pixels / 10 inches\n",
    "    fig, ax = plt.subplots(figsize=(5, 5), frameon=False, dpi=dpi)\n",
    "\n",
    "    # Show the satellite image\n",
    "    show(src, ax=ax)\n",
    "\n",
    "    # Reproject the GeoDataFrame if necessary\n",
    "    if parking_areas.crs != src.crs:\n",
    "        parking_areas = parking_areas.to_crs(src.crs)\n",
    "\n",
    "    # Plot the polygons\n",
    "    parking_areas.plot(ax=ax, facecolor='none', edgecolor='red')\n",
    "\n",
    "    # Remove axis and layout padding\n",
    "    ax.axis('off')\n",
    "    plt.tight_layout(pad=0)\n",
    "\n",
    "    # Save the figure\n",
    "    #plt.savefig(\"/content/drive/MyDrive/output_image.png\", bbox_inches='tight', pad_inches=0)\n",
    "\n",
    "    # Display the plot\n",
    "    plt.show()"
   ]
  },
  {
   "cell_type": "code",
   "execution_count": null,
   "metadata": {},
   "outputs": [],
   "source": [
    "from matplotlib.backends.backend_agg import FigureCanvasAgg as FigureCanvas\n",
    "\n",
    "with rasterio.open(file_path_tif) as src:\n",
    "    data = src.read()\n",
    "    if data.shape[0] == 3:\n",
    "        satellite_image = np.moveaxis(data, 0, -1)\n",
    "    else:\n",
    "        raise ValueError(\"The image does not have 3 bands. Check your image data.\")\n",
    "\n",
    "    # Set the figure size and DPI for 3000x3000 pixels output\n",
    "    fig, ax = plt.subplots(figsize=(10, 10), dpi=300)\n",
    "    canvas = FigureCanvas(fig)\n",
    "\n",
    "    # Show the satellite image using imshow\n",
    "    ax.imshow(satellite_image)\n",
    "\n",
    "    # Remove axis and layout padding\n",
    "    ax.axis('off')\n",
    "    plt.tight_layout(pad=0)\n",
    "\n",
    "    # Draw the figure in memory\n",
    "    canvas.draw()\n",
    "\n",
    "    # Convert the figure to a numpy array\n",
    "    image_array = np.frombuffer(canvas.tostring_rgb(), dtype='uint8')\n",
    "    image_array = image_array.reshape(fig.canvas.get_width_height()[::-1] + (3,))\n",
    "\n",
    "    # Now, image_array is your 3000x3000 numpy array of the combined image"
   ]
  },
  {
   "cell_type": "code",
   "execution_count": null,
   "metadata": {},
   "outputs": [],
   "source": [
    "plt.imshow(image_array, cmap='gray')"
   ]
  },
  {
   "cell_type": "code",
   "execution_count": null,
   "metadata": {},
   "outputs": [],
   "source": [
    "# save as png\n",
    "\n",
    "image = Image.fromarray(np.uint8(image_array))\n",
    "\n",
    "# Save the image\n",
    "#image.save(\"/content/drive/MyDrive/Master Thesis/01 Data Acquisition/pngfromarray.png\")"
   ]
  },
  {
   "cell_type": "code",
   "execution_count": null,
   "metadata": {},
   "outputs": [],
   "source": [
    "def split_image_to_tiles(image_path, tile_width, tile_height, output_folder):\n",
    "    # Open the image\n",
    "    with Image.open(image_path) as img:\n",
    "        image_width, image_height = img.size\n",
    "\n",
    "        # Calculate the number of tiles in each dimension\n",
    "        x_tiles = image_width // tile_width\n",
    "        y_tiles = image_height // tile_height\n",
    "\n",
    "        # Create output folder if it does not exist\n",
    "        if not os.path.exists(output_folder):\n",
    "            os.makedirs(output_folder)\n",
    "\n",
    "        # Generate tiles\n",
    "        for x in range(x_tiles):\n",
    "            for y in range(y_tiles):\n",
    "                # Define the bounding box\n",
    "                left = x * tile_width\n",
    "                upper = y * tile_height\n",
    "                right = (x + 1) * tile_width\n",
    "                lower = (y + 1) * tile_height\n",
    "                box = (left, upper, right, lower)\n",
    "\n",
    "                # Crop the image to the bounding box\n",
    "                tile = img.crop(box)\n",
    "\n",
    "                # Save the tile\n",
    "                tile.save(os.path.join(output_folder, f\"tile_{x}_{y}.png\"))"
   ]
  },
  {
   "cell_type": "code",
   "execution_count": null,
   "metadata": {},
   "outputs": [],
   "source": [
    "# Usage\n",
    "image_path = file_path_tif\n",
    "tile_width = 500\n",
    "tile_height = 500\n",
    "output_folder = \"/content/drive/MyDrive/Master Thesis/01 Data Acquisition/Test Download PNG/Test Download tiles\"\n",
    "split_image_to_tiles(image_path, tile_width, tile_height, output_folder)"
   ]
  },
  {
   "cell_type": "code",
   "execution_count": null,
   "metadata": {},
   "outputs": [],
   "source": [
    "# Assuming gdf is your GeoDataFrame\n",
    "gdf = parking_areas\n",
    "\n",
    "# Define your bounding box [left, bottom, right, top]\n",
    "bbox = test_bbox\n",
    "\n",
    "# Calculate pixel size\n",
    "width = height = 3000\n",
    "xres = (bbox[2] - bbox[0]) / width\n",
    "yres = (bbox[3] - bbox[1]) / height\n",
    "\n",
    "# Create an affine transform for the raster\n",
    "transform = rasterio.transform.from_bounds(*bbox, width, height)\n",
    "\n",
    "# Create the mask\n",
    "geometries = gdf.geometry\n",
    "mask = geometry_mask(geometries, transform=transform, invert=True, out_shape=(height, width))\n",
    "\n",
    "# The mask is a numpy array that can be used for further processing\n",
    "\n",
    "plt.imshow(mask, cmap='gray')\n",
    "plt.title('Mask of Polygon Geometries')\n",
    "plt.show()"
   ]
  },
  {
   "cell_type": "code",
   "execution_count": null,
   "metadata": {},
   "outputs": [],
   "source": [
    "mask.shape"
   ]
  }
 ],
 "metadata": {
  "kernelspec": {
   "display_name": ".venv",
   "language": "python",
   "name": "python3"
  },
  "language_info": {
   "codemirror_mode": {
    "name": "ipython",
    "version": 3
   },
   "file_extension": ".py",
   "mimetype": "text/x-python",
   "name": "python",
   "nbconvert_exporter": "python",
   "pygments_lexer": "ipython3",
   "version": "3.11.6"
  }
 },
 "nbformat": 4,
 "nbformat_minor": 2
}
