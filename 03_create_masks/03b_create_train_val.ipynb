{
  "cells": [
    {
      "cell_type": "markdown",
      "metadata": {
        "colab_type": "text",
        "id": "view-in-github"
      },
      "source": [
        "<a href=\"https://colab.research.google.com/github/benedikt-korbach/remote-sensing-of-parking-areas/blob/main/03d_create_train_val.ipynb\" target=\"_parent\"><img src=\"https://colab.research.google.com/assets/colab-badge.svg\" alt=\"Open In Colab\"/></a>"
      ]
    },
    {
      "cell_type": "markdown",
      "metadata": {
        "id": "C-Ulvbv63nvw"
      },
      "source": [
        "# Import packages, mount drive, set wd"
      ]
    },
    {
      "cell_type": "code",
      "execution_count": 5,
      "metadata": {},
      "outputs": [
        {
          "ename": "SyntaxError",
          "evalue": "invalid syntax (515555790.py, line 2)",
          "output_type": "error",
          "traceback": [
            "\u001b[0;36m  Cell \u001b[0;32mIn[5], line 2\u001b[0;36m\u001b[0m\n\u001b[0;31m    pip install sklearn\u001b[0m\n\u001b[0m        ^\u001b[0m\n\u001b[0;31mSyntaxError\u001b[0m\u001b[0;31m:\u001b[0m invalid syntax\n"
          ]
        }
      ],
      "source": [
        "#pip install opencv-python\n",
        "\n"
      ]
    },
    {
      "cell_type": "code",
      "execution_count": 7,
      "metadata": {
        "colab": {
          "base_uri": "https://localhost:8080/"
        },
        "id": "DcAJSrr3Ej2B",
        "outputId": "13de9bb0-05f3-449d-8e91-b47136a62a86"
      },
      "outputs": [
        {
          "ename": "ModuleNotFoundError",
          "evalue": "No module named 'sklearn'",
          "output_type": "error",
          "traceback": [
            "\u001b[0;31m---------------------------------------------------------------------------\u001b[0m",
            "\u001b[0;31mModuleNotFoundError\u001b[0m                       Traceback (most recent call last)",
            "Cell \u001b[0;32mIn[7], line 3\u001b[0m\n\u001b[1;32m      1\u001b[0m \u001b[38;5;28;01mimport\u001b[39;00m \u001b[38;5;21;01mos\u001b[39;00m\n\u001b[1;32m      2\u001b[0m \u001b[38;5;28;01mimport\u001b[39;00m \u001b[38;5;21;01mcv2\u001b[39;00m\n\u001b[0;32m----> 3\u001b[0m \u001b[38;5;28;01mfrom\u001b[39;00m \u001b[38;5;21;01msklearn\u001b[39;00m\u001b[38;5;21;01m.\u001b[39;00m\u001b[38;5;21;01mmodel_selection\u001b[39;00m \u001b[38;5;28;01mimport\u001b[39;00m train_test_split\n\u001b[1;32m      4\u001b[0m \u001b[38;5;28;01mimport\u001b[39;00m \u001b[38;5;21;01mmatplotlib\u001b[39;00m\u001b[38;5;21;01m.\u001b[39;00m\u001b[38;5;21;01mpyplot\u001b[39;00m \u001b[38;5;28;01mas\u001b[39;00m \u001b[38;5;21;01mplt\u001b[39;00m\n\u001b[1;32m      5\u001b[0m \u001b[38;5;28;01mimport\u001b[39;00m \u001b[38;5;21;01mnumpy\u001b[39;00m \u001b[38;5;28;01mas\u001b[39;00m \u001b[38;5;21;01mnp\u001b[39;00m\n",
            "\u001b[0;31mModuleNotFoundError\u001b[0m: No module named 'sklearn'"
          ]
        }
      ],
      "source": [
        "import os\n",
        "import cv2\n",
        "from sklearn.model_selection import train_test_split\n",
        "import matplotlib.pyplot as plt\n",
        "import numpy as np\n",
        "import datetime\n",
        "import random\n",
        "import shutil"
      ]
    },
    {
      "cell_type": "code",
      "execution_count": null,
      "metadata": {
        "colab": {
          "base_uri": "https://localhost:8080/"
        },
        "id": "pqCaxtTqY0gp",
        "outputId": "92643835-aaf6-4f2c-a8f8-41d829800da6"
      },
      "outputs": [
        {
          "name": "stdout",
          "output_type": "stream",
          "text": [
            "Mounted at /content/drive\n"
          ]
        }
      ],
      "source": [
        "#from google.colab import drive\n",
        "#drive.mount('/content/drive')"
      ]
    },
    {
      "cell_type": "code",
      "execution_count": 10,
      "metadata": {
        "colab": {
          "base_uri": "https://localhost:8080/"
        },
        "id": "yD2sPyMQEj2C",
        "outputId": "13876d20-cc75-4674-c1a0-c84b6c58901d"
      },
      "outputs": [
        {
          "name": "stdout",
          "output_type": "stream",
          "text": [
            "Working directory: /Users/benediktkorbach/Documents/GitHub/remote-sensing-of-parking-areas\n"
          ]
        }
      ],
      "source": [
        "# Set wd\n",
        "#os.chdir(\"/Users/benediktkorbach/Documents/GitHub/remote-sensing-of-parking-areas\")\n",
        "#os.chdir(\"/content/drive/MyDrive/Master Thesis\")\n",
        "\n",
        "# Set wd\n",
        "os.chdir('/Users/benediktkorbach/Documents/GitHub/remote-sensing-of-parking-areas')\n",
        "\n",
        "print(\"Working directory:\", os.getcwd())\n"
      ]
    },
    {
      "cell_type": "markdown",
      "metadata": {
        "id": "-8MHRACt57jh"
      },
      "source": [
        "# Check train_validate_512"
      ]
    },
    {
      "cell_type": "code",
      "execution_count": 11,
      "metadata": {
        "id": "0mMBVkipeaaH"
      },
      "outputs": [],
      "source": [
        "def count_files_in_folder(folder_path):\n",
        "    \"\"\"Counts the number of files in the specified folder.\"\"\"\n",
        "    # List all entries in the folder\n",
        "    entries = os.listdir(folder_path)\n",
        "\n",
        "    # Count only files\n",
        "    file_count = sum(os.path.isfile(os.path.join(folder_path, entry)) for entry in entries)\n",
        "\n",
        "    return file_count"
      ]
    },
    {
      "cell_type": "code",
      "execution_count": 12,
      "metadata": {
        "colab": {
          "base_uri": "https://localhost:8080/"
        },
        "id": "NzU3isulfWHe",
        "outputId": "23d04379-1517-4d38-a5bc-db6946b2ac6b"
      },
      "outputs": [
        {
          "name": "stdout",
          "output_type": "stream",
          "text": [
            "There are 4824 images and 4824 masks in the folders 03_create_masks/train_validate_images_masks/images and 03_create_masks/train_validate_images_masks/masks respectively.\n"
          ]
        }
      ],
      "source": [
        "# Count images and masks\n",
        "mask_path = \"03_create_masks/train_validate_images_masks/masks\"\n",
        "image_path = \"03_create_masks/train_validate_images_masks/images\"\n",
        "\n",
        "num_masks = count_files_in_folder(mask_path)\n",
        "num_images = count_files_in_folder(image_path)\n",
        "\n",
        "print(f\"There are {num_images} images and {num_masks} masks in the folders {image_path} and {mask_path} respectively.\")"
      ]
    },
    {
      "cell_type": "markdown",
      "metadata": {
        "id": "34R2RDOC7pk2"
      },
      "source": [
        "There are 4,823 (minus one, as folder is also counted) images/masks in the train_validate_images_masks folder."
      ]
    },
    {
      "cell_type": "markdown",
      "metadata": {
        "id": "MirspYIBF27_"
      },
      "source": [
        "# Reduce background images/masks"
      ]
    },
    {
      "cell_type": "code",
      "execution_count": 13,
      "metadata": {
        "id": "8eyw_Ah4F401"
      },
      "outputs": [],
      "source": [
        "def create_target_dirs(target_dir):\n",
        "    \"\"\"Create target directories for images and masks.\"\"\"\n",
        "    os.makedirs(target_dir, exist_ok=True)\n",
        "    os.makedirs(os.path.join(target_dir, \"images\"), exist_ok=True)\n",
        "    os.makedirs(os.path.join(target_dir, \"masks\"), exist_ok=True)\n",
        "\n",
        "def reduce_background_images(image_folder, mask_folder, target_folder, black_mask_inclusion_prob=0.2):\n",
        "    \"\"\"\n",
        "    Reduces the number of pure background images by selecting black_mask_inclusion_prob percent of pure background images.\n",
        "    \"\"\"\n",
        "    # Create target directory\n",
        "    create_target_dirs(target_folder)\n",
        "\n",
        "    # Initialize counters for sanity check\n",
        "    image_counter = 0\n",
        "    parking_images_copied = 0\n",
        "    background_images_copied = 0\n",
        "    background_images_discarded = 0\n",
        "\n",
        "    # Initialize start time\n",
        "    start_time = datetime.datetime.now()\n",
        "    print(f\"Copying started at {start_time.strftime('%Y-%m-%d %H:%M:%S')}\")\n",
        "\n",
        "    # Loop through every image/mask\n",
        "    for img_name in sorted(os.listdir(image_folder)):\n",
        "        if not img_name.lower().endswith(\".png\"):\n",
        "            continue\n",
        "\n",
        "        image_counter += 1\n",
        "\n",
        "        img_path = os.path.join(image_folder, img_name)\n",
        "        mask_path = os.path.join(mask_folder, img_name)\n",
        "\n",
        "        # Check if the mask is completely black (background)\n",
        "        mask = cv2.imread(mask_path, cv2.IMREAD_GRAYSCALE)\n",
        "        if np.unique(mask).size == 1 and np.unique(mask)[0] == 0:\n",
        "            # Include the black mask with a certain probability\n",
        "            if random.random() < black_mask_inclusion_prob:\n",
        "                shutil.copy(img_path, os.path.join(target_folder, \"images\", img_name))\n",
        "                shutil.copy(mask_path, os.path.join(target_folder, \"masks\", img_name))\n",
        "                print(f\"Background added: {img_name}\")\n",
        "                background_images_copied += 1\n",
        "            else:\n",
        "                background_images_discarded += 1\n",
        "        else:\n",
        "            # Include every non-background image\n",
        "            shutil.copy(img_path, os.path.join(target_folder, \"images\", img_name))\n",
        "            shutil.copy(mask_path, os.path.join(target_folder, \"masks\", img_name))\n",
        "            print(f\"Parking added: {img_name}\")\n",
        "            parking_images_copied += 1\n",
        "\n",
        "    # Stop time and calculate total copied\n",
        "    now = datetime.datetime.now()\n",
        "    duration = (now - start_time).total_seconds()\n",
        "    total_copied = background_images_copied + parking_images_copied\n",
        "\n",
        "    # Output copies made by category\n",
        "    print(f\"Finished copying at {now.strftime('%Y-%m-%d %H:%M:%S')} in {duration:.2f} seconds.\")\n",
        "    print(f\"Total evaluated: {image_counter}\")\n",
        "    print(f\"Total background discarded: {background_images_discarded}\")\n",
        "    print(f\"Total copied: {total_copied}\")\n",
        "    print(f\"thereof parking: {parking_images_copied}\")\n",
        "    print(f\"thereof background: {background_images_copied}\")"
      ]
    },
    {
      "cell_type": "code",
      "execution_count": 14,
      "metadata": {
        "colab": {
          "base_uri": "https://localhost:8080/"
        },
        "id": "ddbfim6CGD0U",
        "outputId": "b7b6ad90-7857-4471-8ed5-141fcfe32b36"
      },
      "outputs": [
        {
          "ename": "NameError",
          "evalue": "name 'datetime' is not defined",
          "output_type": "error",
          "traceback": [
            "\u001b[0;31m---------------------------------------------------------------------------\u001b[0m",
            "\u001b[0;31mNameError\u001b[0m                                 Traceback (most recent call last)",
            "Cell \u001b[0;32mIn[14], line 6\u001b[0m\n\u001b[1;32m      4\u001b[0m mask_folder \u001b[38;5;241m=\u001b[39m \u001b[38;5;124m\"\u001b[39m\u001b[38;5;124m03_create_masks/train_validate_images_masks/masks\u001b[39m\u001b[38;5;124m\"\u001b[39m\n\u001b[1;32m      5\u001b[0m target_folder \u001b[38;5;241m=\u001b[39m \u001b[38;5;124m\"\u001b[39m\u001b[38;5;124m03_create_masks/train_validate_images_masks_reduced\u001b[39m\u001b[38;5;124m\"\u001b[39m\n\u001b[0;32m----> 6\u001b[0m \u001b[43mreduce_background_images\u001b[49m\u001b[43m(\u001b[49m\u001b[43mimage_folder\u001b[49m\u001b[43m,\u001b[49m\u001b[43m \u001b[49m\u001b[43mmask_folder\u001b[49m\u001b[43m,\u001b[49m\u001b[43m \u001b[49m\u001b[43mtarget_folder\u001b[49m\u001b[43m)\u001b[49m\n",
            "Cell \u001b[0;32mIn[13], line 21\u001b[0m, in \u001b[0;36mreduce_background_images\u001b[0;34m(image_folder, mask_folder, target_folder, black_mask_inclusion_prob)\u001b[0m\n\u001b[1;32m     18\u001b[0m background_images_discarded \u001b[38;5;241m=\u001b[39m \u001b[38;5;241m0\u001b[39m\n\u001b[1;32m     20\u001b[0m \u001b[38;5;66;03m# Initialize start time\u001b[39;00m\n\u001b[0;32m---> 21\u001b[0m start_time \u001b[38;5;241m=\u001b[39m \u001b[43mdatetime\u001b[49m\u001b[38;5;241m.\u001b[39mdatetime\u001b[38;5;241m.\u001b[39mnow()\n\u001b[1;32m     22\u001b[0m \u001b[38;5;28mprint\u001b[39m(\u001b[38;5;124mf\u001b[39m\u001b[38;5;124m\"\u001b[39m\u001b[38;5;124mCopying started at \u001b[39m\u001b[38;5;132;01m{\u001b[39;00mstart_time\u001b[38;5;241m.\u001b[39mstrftime(\u001b[38;5;124m'\u001b[39m\u001b[38;5;124m%\u001b[39m\u001b[38;5;124mY-\u001b[39m\u001b[38;5;124m%\u001b[39m\u001b[38;5;124mm-\u001b[39m\u001b[38;5;132;01m%d\u001b[39;00m\u001b[38;5;124m \u001b[39m\u001b[38;5;124m%\u001b[39m\u001b[38;5;124mH:\u001b[39m\u001b[38;5;124m%\u001b[39m\u001b[38;5;124mM:\u001b[39m\u001b[38;5;124m%\u001b[39m\u001b[38;5;124mS\u001b[39m\u001b[38;5;124m'\u001b[39m)\u001b[38;5;132;01m}\u001b[39;00m\u001b[38;5;124m\"\u001b[39m)\n\u001b[1;32m     24\u001b[0m \u001b[38;5;66;03m# Loop through every image/mask\u001b[39;00m\n",
            "\u001b[0;31mNameError\u001b[0m: name 'datetime' is not defined"
          ]
        }
      ],
      "source": [
        "# Reduce the number of pure background images and save them in the target folder\n",
        "\n",
        "image_folder = \"03_create_masks/train_validate_images_masks//images\"\n",
        "mask_folder = \"03_create_masks/train_validate_images_masks/masks\"\n",
        "target_folder = \"03_create_masks/train_validate_images_masks_reduced\"\n",
        "reduce_background_images(image_folder, mask_folder, target_folder)"
      ]
    },
    {
      "cell_type": "markdown",
      "metadata": {
        "id": "oe7SBZ5J7-L3"
      },
      "source": [
        "From the 5,793 evaluated images, 3,871 were discarded as pure background images. The final dataset contains 1,922 images, of which 921 include parking spaces (both truck and car) as well as 1001 pure background images."
      ]
    },
    {
      "cell_type": "markdown",
      "metadata": {
        "id": "o4cMnl0x_r5E"
      },
      "source": [
        "# Create train/val folder"
      ]
    },
    {
      "cell_type": "code",
      "execution_count": 8,
      "metadata": {
        "id": "q2BsnYZ5BG0w"
      },
      "outputs": [],
      "source": [
        "def split_and_copy_data(base_input_path, test_size=0.2, random_seed=42):\n",
        "    \"\"\"\n",
        "    Splits data into training and validation and copies images/masks to respective folders.\n",
        "    \"\"\"\n",
        "    # Define directories\n",
        "    images_dir = os.path.join(base_input_path, \"images\")\n",
        "    masks_dir = os.path.join(base_input_path, \"masks\")\n",
        "    train_image_dir = os.path.join(base_input_path, \"train\", \"images\")\n",
        "    train_mask_dir = os.path.join(base_input_path, \"train\", \"masks\")\n",
        "    val_image_dir = os.path.join(base_input_path, \"val\", \"images\")\n",
        "    val_mask_dir = os.path.join(base_input_path, \"val\", \"masks\")\n",
        "\n",
        "    # Create directories\n",
        "    os.makedirs(train_image_dir, exist_ok=True)\n",
        "    os.makedirs(train_mask_dir, exist_ok=True)\n",
        "    os.makedirs(val_image_dir, exist_ok=True)\n",
        "    os.makedirs(val_mask_dir, exist_ok=True)\n",
        "\n",
        "    # Retrieve and sort filenames\n",
        "    image_files = [f for f in os.listdir(images_dir) if f.endswith('.png')]\n",
        "    mask_files = [f for f in os.listdir(masks_dir) if f.endswith('.png')]\n",
        "    image_files.sort()\n",
        "    mask_files.sort()\n",
        "\n",
        "    # Split data into training and validation sets\n",
        "    image_train, image_val, mask_train, mask_val = train_test_split(\n",
        "        image_files, mask_files, test_size=test_size, random_state=random_seed)\n",
        "\n",
        "    # Function to copy files\n",
        "    def copy_files(file_list, src_dir, dest_dir):\n",
        "        for file in file_list:\n",
        "            src_file_path = os.path.join(src_dir, file)\n",
        "            dest_file_path = os.path.join(dest_dir, file)\n",
        "            shutil.copy(src_file_path, dest_file_path)\n",
        "\n",
        "    # Copy files to respective directories\n",
        "    copy_files(image_train, images_dir, train_image_dir)\n",
        "    copy_files(mask_train, masks_dir, train_mask_dir)\n",
        "    copy_files(image_val, images_dir, val_image_dir)\n",
        "    copy_files(mask_val, masks_dir, val_mask_dir)\n",
        "\n",
        "    print(f\"Data successfully split and copied.\\nTraining images: {len(image_train)}, Validation images: {len(image_val)}\")"
      ]
    },
    {
      "cell_type": "code",
      "execution_count": 9,
      "metadata": {
        "colab": {
          "base_uri": "https://localhost:8080/"
        },
        "id": "UnMWV1bjCLb5",
        "outputId": "0a76a060-a3a7-4812-bef9-3793b10c3d48"
      },
      "outputs": [
        {
          "name": "stdout",
          "output_type": "stream",
          "text": [
            "Data successfully split and copied.\n",
            "Training images: 1537, Validation images: 385\n"
          ]
        }
      ],
      "source": [
        "# Create training and validation folders\n",
        "base_input_path = \"03_create_masks/train_validate_512_incl_quick/train_validate_512_incl_quick_reduced_background\"\n",
        "split_and_copy_data(base_input_path, test_size=0.2, random_seed=42)"
      ]
    },
    {
      "cell_type": "markdown",
      "metadata": {
        "id": "kC2aKlo18bwS"
      },
      "source": [
        "The training folder contains 1,537 images while the validation folder includes 385 images."
      ]
    },
    {
      "cell_type": "code",
      "execution_count": 14,
      "metadata": {
        "id": "RyU_Jz6nWGyJ"
      },
      "outputs": [],
      "source": [
        "def count_image_intensities(folder_dir):\n",
        "    \"\"\"\n",
        "    Count car, truck and pure background masks in folder.\n",
        "    \"\"\"\n",
        "    count_all_zero = 0\n",
        "    count_include_100 = 0\n",
        "    count_include_200 = 0\n",
        "    count_include_250 = 0\n",
        "    count_include_100_200_250 = 0\n",
        "\n",
        "    # Iterate through all image files in the folder\n",
        "    for filename in os.listdir(folder_dir):\n",
        "        if filename.lower().endswith('.png'):\n",
        "            img_path = os.path.join(folder_dir, filename)\n",
        "            img = cv2.imread(img_path, cv2.IMREAD_GRAYSCALE)\n",
        "\n",
        "            # Check if the entire image is black\n",
        "            if np.all(img == 0):\n",
        "                count_all_zero += 1\n",
        "\n",
        "            # Check if the image includes pixel intensities of 100\n",
        "            if np.any(img == 100):\n",
        "                count_include_100 += 1\n",
        "\n",
        "            # Check if the image includes pixel intensities of 200\n",
        "            if np.any(img == 200):\n",
        "                count_include_200 += 1\n",
        "\n",
        "            # Check if the image includes pixel intensities of 250\n",
        "            if np.any(img == 250):\n",
        "                count_include_250 += 1\n",
        "\n",
        "            # Check if the image includes pixel intensities of 100 or 200\n",
        "            if np.any(img == 100) or np.any(img == 200) or np.any(img == 250):\n",
        "                count_include_100_200_250 += 1\n",
        "\n",
        "            total_count = count_all_zero + count_include_100_200_250\n",
        "\n",
        "    return total_count, count_all_zero, count_include_100, count_include_200, count_include_250, count_include_100_200_250"
      ]
    },
    {
      "cell_type": "code",
      "execution_count": 19,
      "metadata": {
        "colab": {
          "base_uri": "https://localhost:8080/"
        },
        "id": "Nk4xJqr8WJ3T",
        "outputId": "658e771b-2aca-49b2-964a-c7fb6f6cae98"
      },
      "outputs": [
        {
          "name": "stdout",
          "output_type": "stream",
          "text": [
            "Total count: 385\n",
            "Background images: 201\n",
            "Images including car parking: 117\n",
            "Images including truck parking: 125\n",
            "Images including quick parking: 58\n",
            "Images including car, truck or quick parking: 184\n"
          ]
        }
      ],
      "source": [
        "# Count the instances of car and truck parking as well as background in the train/val folder\n",
        "train_dir = \"03_create_masks/train_validate_512_incl_quick/train_validate_512_incl_quick_reduced_background/train/masks\"\n",
        "val_dir = \"03_create_masks/train_validate_512_incl_quick/train_validate_512_incl_quick_reduced_background/val/masks\"\n",
        "\n",
        "total_count, count_all_zero, count_include_100, count_include_200, count_include_250, count_include_100_200_250 = count_image_intensities(val_dir)\n",
        "\n",
        "print(f\"Total count: {total_count}\")\n",
        "print(f\"Background images: {count_all_zero}\")\n",
        "print(f\"Images including car parking: {count_include_100}\")\n",
        "print(f\"Images including truck parking: {count_include_200}\")\n",
        "print(f\"Images including quick parking: {count_include_250}\")\n",
        "print(f\"Images including car, truck or quick parking: {count_include_100_200_250}\")"
      ]
    },
    {
      "cell_type": "markdown",
      "metadata": {
        "id": "-gaXQAJR86iS"
      },
      "source": [
        "The training set includes 1,537 images, of which 415 include car parking, 461 include truck parking, 304 include quick parking and 737 include car, truck or quick parking. 800 images are pure background images.\n",
        "\n",
        "The validation set includes 385 images, of which 117 include car parking, 125 include truck parking, 58 include quick parking and 184 include car, truck or quick parking. 117 images are pure background images."
      ]
    }
  ],
  "metadata": {
    "colab": {
      "authorship_tag": "ABX9TyNjVodNuXTljTBMZqM5LC9V",
      "include_colab_link": true,
      "provenance": []
    },
    "kernelspec": {
      "display_name": "Python 3",
      "name": "python3"
    },
    "language_info": {
      "codemirror_mode": {
        "name": "ipython",
        "version": 3
      },
      "file_extension": ".py",
      "mimetype": "text/x-python",
      "name": "python",
      "nbconvert_exporter": "python",
      "pygments_lexer": "ipython3",
      "version": "3.11.6"
    }
  },
  "nbformat": 4,
  "nbformat_minor": 0
}
